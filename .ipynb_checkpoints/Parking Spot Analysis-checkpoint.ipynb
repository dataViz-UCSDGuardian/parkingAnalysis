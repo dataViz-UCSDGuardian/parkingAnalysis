{
 "cells": [
  {
   "cell_type": "code",
   "execution_count": 87,
   "metadata": {
    "collapsed": false
   },
   "outputs": [],
   "source": [
    "import pandas as ps\n",
    "import plotly\n",
    "import plotly.plotly as py\n",
    "import plotly.graph_objs as go\n",
    "plotly.tools.set_credentials_file(username='hali96', api_key='y8861qxd0n')\n",
    "\n"
   ]
  },
  {
   "cell_type": "code",
   "execution_count": 131,
   "metadata": {
    "collapsed": false,
    "scrolled": true
   },
   "outputs": [
    {
     "data": {
      "text/plain": [
       "[[68, 57, 37, 25, 16, 15, 9, 13, 20, 26],\n",
       " [60, 55, 45, 24, 13, 10, 10, 14, 21, 32],\n",
       " [237, 133, 0, 0, 0, 2, 4, 9, 28, 49],\n",
       " [30, 66, 62, 44, 54, 54, 62, 68, 69, 93],\n",
       " [181, 143, 104, 81, 74, 71, 70, 77, 83, 110],\n",
       " [9, 8, 7, 7, 6, 7, 6, 5, 5, 6]]"
      ]
     },
     "execution_count": 131,
     "metadata": {},
     "output_type": "execute_result"
    }
   ],
   "source": [
    "fall2015 = ps.read_excel(open('falldata.xls', 'rb'), sheetname='By Structure')\n",
    "\n",
    "hopkins = []\n",
    "pang = []\n",
    "torpinS = []\n",
    "torpinN = [] \n",
    "\n",
    "\n",
    "Bhopkins = []\n",
    "Bpangea = []\n",
    "Btpcs = []\n",
    "Btpcn = []\n",
    "Bgilman = []\n",
    "Bec1e = []\n",
    "Bec1w = []\n",
    "Bbachman = [] \n",
    "Barbor140 = []\n",
    "\n",
    "Ahop = []\n",
    "Apan = []\n",
    "Agil = []\n",
    "Aec1w = []\n",
    "Aarb = []\n",
    "Aarb140 = []\n",
    "\n",
    "\n",
    "\n",
    "for i in range (3, 13):\n",
    "    \n",
    "    #s spots\n",
    "    hopkins.append(fall2015.ix[7][i])\n",
    "    pang.append(fall2015.ix[18][i])\n",
    "    torpinS.append(fall2015.ix[29][i])\n",
    "    torpinN.append(fall2015.ix[40][i])\n",
    "    \n",
    "    #b spots \n",
    "    Bhopkins.append(fall2015.ix[6][i])\n",
    "    Bpangea.append(fall2015.ix[17][i])\n",
    "    Btpcs.append(fall2015.ix[28][i])\n",
    "    Btpcn.append(fall2015.ix[39][i])\n",
    "    Bgilman.append(fall2015.ix[50][i])\n",
    "    Bec1e.append(fall2015.ix[61][i])\n",
    "    Bec1w.append(fall2015.ix[72][i])\n",
    "    Bbachman.append(fall2015.ix[94][i])\n",
    "    Barbor140.append(fall2015.ix[105][i])\n",
    "    \n",
    "    #a spots\n",
    "    Ahop.append(fall2015.ix[5][i])\n",
    "    Apan.append(fall2015.ix[16][i])\n",
    "    Agil.append(fall2015.ix[49][i])\n",
    "    Aec1w.append(fall2015.ix[71][i])\n",
    "    Aarb.append(fall2015.ix[82][i])\n",
    "    Aarb140.append(fall2015.ix[104][i])\n",
    "        \n",
    "    \n",
    "sarray = [hopkins, pang, torpinS, torpinN]\n",
    "barray = [Bhopkins, Bpangea, Btpcs, Btpcn, Bgilman, Bec1e, Bec1w, Bbachman, Barbor140]\n",
    "aarray = [Ahop, Apan, Agil, Aec1w, Aarb, Aarb140]\n",
    "\n",
    "aarray\n",
    "\n",
    "\n",
    "\n",
    "\n",
    "\n",
    "    "
   ]
  },
  {
   "cell_type": "code",
   "execution_count": null,
   "metadata": {
    "collapsed": false,
    "scrolled": true
   },
   "outputs": [],
   "source": []
  },
  {
   "cell_type": "code",
   "execution_count": 115,
   "metadata": {
    "collapsed": true
   },
   "outputs": [],
   "source": [
    "Sindex = [\"Hopkins\", \"Pangea\", \"Torrey Pines Center South\", \"Torrey Pines Center North\"]\n",
    "columns = [\"8am\", \"9am\", \"10am\", \"11am\", \"12pm\", \"1pm\", \"2pm\", \"3pm\", \"4pm\", \"5pm\"]"
   ]
  },
  {
   "cell_type": "code",
   "execution_count": 117,
   "metadata": {
    "collapsed": false
   },
   "outputs": [
    {
     "data": {
      "text/html": [
       "<div>\n",
       "<table border=\"1\" class=\"dataframe\">\n",
       "  <thead>\n",
       "    <tr style=\"text-align: right;\">\n",
       "      <th></th>\n",
       "      <th>8am</th>\n",
       "      <th>9am</th>\n",
       "      <th>10am</th>\n",
       "      <th>11am</th>\n",
       "      <th>12pm</th>\n",
       "      <th>1pm</th>\n",
       "      <th>2pm</th>\n",
       "      <th>3pm</th>\n",
       "      <th>4pm</th>\n",
       "      <th>5pm</th>\n",
       "    </tr>\n",
       "  </thead>\n",
       "  <tbody>\n",
       "    <tr>\n",
       "      <th>Hopkins</th>\n",
       "      <td>16</td>\n",
       "      <td>0</td>\n",
       "      <td>0</td>\n",
       "      <td>1</td>\n",
       "      <td>0</td>\n",
       "      <td>1</td>\n",
       "      <td>4</td>\n",
       "      <td>1</td>\n",
       "      <td>4</td>\n",
       "      <td>16</td>\n",
       "    </tr>\n",
       "    <tr>\n",
       "      <th>Pangea</th>\n",
       "      <td>29</td>\n",
       "      <td>5</td>\n",
       "      <td>0</td>\n",
       "      <td>0</td>\n",
       "      <td>0</td>\n",
       "      <td>0</td>\n",
       "      <td>1</td>\n",
       "      <td>1</td>\n",
       "      <td>7</td>\n",
       "      <td>11</td>\n",
       "    </tr>\n",
       "    <tr>\n",
       "      <th>Torrey Pines Center South</th>\n",
       "      <td>4</td>\n",
       "      <td>3</td>\n",
       "      <td>2</td>\n",
       "      <td>1</td>\n",
       "      <td>1</td>\n",
       "      <td>2</td>\n",
       "      <td>2</td>\n",
       "      <td>2</td>\n",
       "      <td>3</td>\n",
       "      <td>3</td>\n",
       "    </tr>\n",
       "    <tr>\n",
       "      <th>Torrey Pines Center North</th>\n",
       "      <td>5</td>\n",
       "      <td>4</td>\n",
       "      <td>0</td>\n",
       "      <td>0</td>\n",
       "      <td>1</td>\n",
       "      <td>1</td>\n",
       "      <td>1</td>\n",
       "      <td>0</td>\n",
       "      <td>2</td>\n",
       "      <td>3</td>\n",
       "    </tr>\n",
       "  </tbody>\n",
       "</table>\n",
       "</div>"
      ],
      "text/plain": [
       "                           8am  9am  10am  11am  12pm  1pm  2pm  3pm  4pm  5pm\n",
       "Hopkins                     16    0     0     1     0    1    4    1    4   16\n",
       "Pangea                      29    5     0     0     0    0    1    1    7   11\n",
       "Torrey Pines Center South    4    3     2     1     1    2    2    2    3    3\n",
       "Torrey Pines Center North    5    4     0     0     1    1    1    0    2    3"
      ]
     },
     "execution_count": 117,
     "metadata": {},
     "output_type": "execute_result"
    }
   ],
   "source": [
    "Sspots = ps.DataFrame(sarray, index=Sindex, columns=columns)\n",
    "Sspots"
   ]
  },
  {
   "cell_type": "code",
   "execution_count": 122,
   "metadata": {
    "collapsed": false,
    "scrolled": true
   },
   "outputs": [
    {
     "data": {
      "text/html": [
       "<iframe id=\"igraph\" scrolling=\"no\" style=\"border:none;\" seamless=\"seamless\" src=\"https://plot.ly/~hali96/2.embed\" height=\"525px\" width=\"100%\"></iframe>"
      ],
      "text/plain": [
       "<plotly.tools.PlotlyDisplay object>"
      ]
     },
     "execution_count": 122,
     "metadata": {},
     "output_type": "execute_result"
    }
   ],
   "source": [
    "sdata = [go.Heatmap(z = sarray, x = columns, y = Sindex, colorscale = 'Blues')]\n",
    "py.iplot(sdata, filename='SHeatMap')\n"
   ]
  },
  {
   "cell_type": "code",
   "execution_count": 118,
   "metadata": {
    "collapsed": false
   },
   "outputs": [
    {
     "data": {
      "text/html": [
       "<div>\n",
       "<table border=\"1\" class=\"dataframe\">\n",
       "  <thead>\n",
       "    <tr style=\"text-align: right;\">\n",
       "      <th></th>\n",
       "      <th>8am</th>\n",
       "      <th>9am</th>\n",
       "      <th>10am</th>\n",
       "      <th>11am</th>\n",
       "      <th>12pm</th>\n",
       "      <th>1pm</th>\n",
       "      <th>2pm</th>\n",
       "      <th>3pm</th>\n",
       "      <th>4pm</th>\n",
       "      <th>5pm</th>\n",
       "    </tr>\n",
       "  </thead>\n",
       "  <tbody>\n",
       "    <tr>\n",
       "      <th>Hopkins</th>\n",
       "      <td>421</td>\n",
       "      <td>291</td>\n",
       "      <td>119</td>\n",
       "      <td>9</td>\n",
       "      <td>0</td>\n",
       "      <td>2</td>\n",
       "      <td>4</td>\n",
       "      <td>13</td>\n",
       "      <td>43</td>\n",
       "      <td>129</td>\n",
       "    </tr>\n",
       "    <tr>\n",
       "      <th>Pangea</th>\n",
       "      <td>114</td>\n",
       "      <td>89</td>\n",
       "      <td>29</td>\n",
       "      <td>0</td>\n",
       "      <td>1</td>\n",
       "      <td>1</td>\n",
       "      <td>3</td>\n",
       "      <td>9</td>\n",
       "      <td>24</td>\n",
       "      <td>55</td>\n",
       "    </tr>\n",
       "    <tr>\n",
       "      <th>Torrey Pines Center South</th>\n",
       "      <td>208</td>\n",
       "      <td>121</td>\n",
       "      <td>65</td>\n",
       "      <td>55</td>\n",
       "      <td>64</td>\n",
       "      <td>75</td>\n",
       "      <td>66</td>\n",
       "      <td>64</td>\n",
       "      <td>134</td>\n",
       "      <td>248</td>\n",
       "    </tr>\n",
       "    <tr>\n",
       "      <th>Torrey Pines Center North</th>\n",
       "      <td>98</td>\n",
       "      <td>30</td>\n",
       "      <td>1</td>\n",
       "      <td>1</td>\n",
       "      <td>7</td>\n",
       "      <td>6</td>\n",
       "      <td>6</td>\n",
       "      <td>5</td>\n",
       "      <td>27</td>\n",
       "      <td>84</td>\n",
       "    </tr>\n",
       "    <tr>\n",
       "      <th>Gilman</th>\n",
       "      <td>2</td>\n",
       "      <td>0</td>\n",
       "      <td>0</td>\n",
       "      <td>0</td>\n",
       "      <td>0</td>\n",
       "      <td>0</td>\n",
       "      <td>1</td>\n",
       "      <td>11</td>\n",
       "      <td>46</td>\n",
       "      <td>160</td>\n",
       "    </tr>\n",
       "    <tr>\n",
       "      <th>East Campus 1 East</th>\n",
       "      <td>56</td>\n",
       "      <td>14</td>\n",
       "      <td>0</td>\n",
       "      <td>0</td>\n",
       "      <td>4</td>\n",
       "      <td>6</td>\n",
       "      <td>5</td>\n",
       "      <td>15</td>\n",
       "      <td>64</td>\n",
       "      <td>141</td>\n",
       "    </tr>\n",
       "    <tr>\n",
       "      <th>East Campus 1 West</th>\n",
       "      <td>51</td>\n",
       "      <td>32</td>\n",
       "      <td>14</td>\n",
       "      <td>2</td>\n",
       "      <td>2</td>\n",
       "      <td>4</td>\n",
       "      <td>9</td>\n",
       "      <td>17</td>\n",
       "      <td>42</td>\n",
       "      <td>82</td>\n",
       "    </tr>\n",
       "    <tr>\n",
       "      <th>Bachman</th>\n",
       "      <td>270</td>\n",
       "      <td>91</td>\n",
       "      <td>31</td>\n",
       "      <td>14</td>\n",
       "      <td>20</td>\n",
       "      <td>24</td>\n",
       "      <td>27</td>\n",
       "      <td>71</td>\n",
       "      <td>214</td>\n",
       "      <td>409</td>\n",
       "    </tr>\n",
       "    <tr>\n",
       "      <th>140 Arbor</th>\n",
       "      <td>12</td>\n",
       "      <td>8</td>\n",
       "      <td>4</td>\n",
       "      <td>4</td>\n",
       "      <td>4</td>\n",
       "      <td>4</td>\n",
       "      <td>5</td>\n",
       "      <td>6</td>\n",
       "      <td>10</td>\n",
       "      <td>11</td>\n",
       "    </tr>\n",
       "  </tbody>\n",
       "</table>\n",
       "</div>"
      ],
      "text/plain": [
       "                           8am  9am  10am  11am  12pm  1pm  2pm  3pm  4pm  5pm\n",
       "Hopkins                    421  291   119     9     0    2    4   13   43  129\n",
       "Pangea                     114   89    29     0     1    1    3    9   24   55\n",
       "Torrey Pines Center South  208  121    65    55    64   75   66   64  134  248\n",
       "Torrey Pines Center North   98   30     1     1     7    6    6    5   27   84\n",
       "Gilman                       2    0     0     0     0    0    1   11   46  160\n",
       "East Campus 1 East          56   14     0     0     4    6    5   15   64  141\n",
       "East Campus 1 West          51   32    14     2     2    4    9   17   42   82\n",
       "Bachman                    270   91    31    14    20   24   27   71  214  409\n",
       "140 Arbor                   12    8     4     4     4    4    5    6   10   11"
      ]
     },
     "execution_count": 118,
     "metadata": {},
     "output_type": "execute_result"
    }
   ],
   "source": [
    "Bindex = [\"Hopkins\", \"Pangea\", \"Torrey Pines Center South\", \"Torrey Pines Center North\", \"Gilman\", \"East Campus 1 East\", \"East Campus 1 West\", \"Bachman\", \"140 Arbor\"]\n",
    "\n",
    "Bspots = ps.DataFrame(barray, index=Bindex, columns=columns)\n",
    "Bspots"
   ]
  },
  {
   "cell_type": "code",
   "execution_count": 125,
   "metadata": {
    "collapsed": false
   },
   "outputs": [
    {
     "data": {
      "text/html": [
       "<iframe id=\"igraph\" scrolling=\"no\" style=\"border:none;\" seamless=\"seamless\" src=\"https://plot.ly/~hali96/4.embed\" height=\"525px\" width=\"100%\"></iframe>"
      ],
      "text/plain": [
       "<plotly.tools.PlotlyDisplay object>"
      ]
     },
     "execution_count": 125,
     "metadata": {},
     "output_type": "execute_result"
    }
   ],
   "source": [
    "bdata = [go.Heatmap(z = barray, x = columns, y = Bindex, colorscale = 'YlGnBu')]\n",
    "py.iplot(bdata, filename='BHeatMap')"
   ]
  },
  {
   "cell_type": "code",
   "execution_count": null,
   "metadata": {
    "collapsed": true
   },
   "outputs": [],
   "source": []
  }
 ],
 "metadata": {
  "anaconda-cloud": {},
  "kernelspec": {
   "display_name": "Python [Root]",
   "language": "python",
   "name": "Python [Root]"
  },
  "language_info": {
   "codemirror_mode": {
    "name": "ipython",
    "version": 3
   },
   "file_extension": ".py",
   "mimetype": "text/x-python",
   "name": "python",
   "nbconvert_exporter": "python",
   "pygments_lexer": "ipython3",
   "version": "3.5.2"
  }
 },
 "nbformat": 4,
 "nbformat_minor": 0
}
